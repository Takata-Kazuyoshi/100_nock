{
  "nbformat": 4,
  "nbformat_minor": 0,
  "metadata": {
    "colab": {
      "provenance": []
    },
    "kernelspec": {
      "name": "python3",
      "display_name": "Python 3"
    },
    "language_info": {
      "name": "python"
    }
  },
  "cells": [
    {
      "cell_type": "code",
      "execution_count": 7,
      "metadata": {
        "colab": {
          "base_uri": "https://localhost:8080/"
        },
        "id": "VT3eVRUqtQXM",
        "outputId": "038138fb-a828-4966-f767-610818ce3852"
      },
      "outputs": [
        {
          "output_type": "stream",
          "name": "stdout",
          "text": [
            "stressed → desserts\n"
          ]
        }
      ],
      "source": [
        "#00 文字列の逆順\n",
        "\n",
        "word = 'stressed'\n",
        "ls = list(word)\n",
        "result = ''.join(reversed(ls))\n",
        "print(word + ' → ' +result)"
      ]
    },
    {
      "cell_type": "code",
      "source": [
        "#01 パタトクカシーー\n",
        "\n",
        "word = 'パタトクカシーー'\n",
        "ls = list(word)\n",
        "result = ''.join(ls[0]+ls[2]+ls[4]+ls[6])\n",
        "print(word + ' → ' +result)"
      ],
      "metadata": {
        "colab": {
          "base_uri": "https://localhost:8080/"
        },
        "id": "cgyQmDANxu8W",
        "outputId": "499996a1-bf5c-488a-8757-fec4b7ef2b10"
      },
      "execution_count": 8,
      "outputs": [
        {
          "output_type": "stream",
          "name": "stdout",
          "text": [
            "パタトクカシーー → パトカー\n"
          ]
        }
      ]
    },
    {
      "cell_type": "code",
      "source": [
        "# パトカー ＋ タクシー ＝ パタトクカシーー\n",
        "word1 = 'パトカー'\n",
        "word2 = 'タクシー'\n",
        "ls1 = list(word1)\n",
        "ls2 = list(word2)\n",
        "result = ''.join(ls1[0]+ls2[0]+ls1[1]+ls2[1]+ls1[2]+ls2[2]+ls1[3]+ls2[3])\n",
        "print(word1 + ' + ' + word2 + ' = ' +result)"
      ],
      "metadata": {
        "colab": {
          "base_uri": "https://localhost:8080/"
        },
        "id": "LjiPtBNLy7ex",
        "outputId": "f681dc29-bd8a-403b-eef2-299445de9b1a"
      },
      "execution_count": 10,
      "outputs": [
        {
          "output_type": "stream",
          "name": "stdout",
          "text": [
            "パトカー + タクシー = パタトクカシーー\n"
          ]
        }
      ]
    },
    {
      "cell_type": "code",
      "source": [
        "# 円周率\n",
        "sentence = 'Now I need a drink, alcoholic of course, after the heavy lectures involving quantum mechanics.'\n",
        "words = sentence.replace(',', '').strip('.')\n",
        "ls = words.split()\n",
        "r = [len(word) for word in ls]\n",
        "print(r)"
      ],
      "metadata": {
        "colab": {
          "base_uri": "https://localhost:8080/"
        },
        "id": "e0zp2XlP0UVt",
        "outputId": "2995dc24-af9c-4ccb-d4b7-413f203f5aa5"
      },
      "execution_count": 17,
      "outputs": [
        {
          "output_type": "stream",
          "name": "stdout",
          "text": [
            "['Now', 'I', 'need', 'a', 'drink', 'alcoholic', 'of', 'course', 'after', 'the', 'heavy', 'lectures', 'involving', 'quantum', 'mechanics']\n",
            "[3, 1, 4, 1, 5, 9, 2, 6, 5, 3, 5, 8, 9, 7, 9]\n"
          ]
        }
      ]
    },
    {
      "cell_type": "code",
      "source": [
        "# 元素記号\n",
        "sentence = 'Hi He Lied Because Boron Could Not Oxidize Fluorine. New Nations Might Also Sign Peace Security Clause. Arthur King Can.'\n",
        "words = sentence.replace(',', '').strip('.')\n",
        "ls = words.split()\n",
        "r = {}\n",
        "for i, word in enumerate(ls, 1):\n",
        "    if i in [1, 5, 6, 7, 8, 9, 15, 16, 19]:\n",
        "        r[i] = word[0]\n",
        "    else:\n",
        "        r[i] = word[:2]\n",
        "print(r)"
      ],
      "metadata": {
        "colab": {
          "base_uri": "https://localhost:8080/"
        },
        "id": "gBai2_fj0Yas",
        "outputId": "2170998b-3f74-4c7b-afa7-ac37658f0acd"
      },
      "execution_count": 19,
      "outputs": [
        {
          "output_type": "stream",
          "name": "stdout",
          "text": [
            "{1: 'H', 2: 'He', 3: 'Li', 4: 'Be', 5: 'B', 6: 'C', 7: 'N', 8: 'O', 9: 'F', 10: 'Ne', 11: 'Na', 12: 'Mi', 13: 'Al', 14: 'Si', 15: 'P', 16: 'S', 17: 'Cl', 18: 'Ar', 19: 'K', 20: 'Ca'}\n"
          ]
        }
      ]
    }
  ]
}