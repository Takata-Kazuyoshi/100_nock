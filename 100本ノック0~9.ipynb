{
  "nbformat": 4,
  "nbformat_minor": 0,
  "metadata": {
    "colab": {
      "provenance": []
    },
    "kernelspec": {
      "name": "python3",
      "display_name": "Python 3"
    },
    "language_info": {
      "name": "python"
    }
  },
  "cells": [
    {
      "cell_type": "code",
      "execution_count": null,
      "metadata": {
        "colab": {
          "base_uri": "https://localhost:8080/"
        },
        "id": "VT3eVRUqtQXM",
        "outputId": "038138fb-a828-4966-f767-610818ce3852"
      },
      "outputs": [
        {
          "output_type": "stream",
          "name": "stdout",
          "text": [
            "stressed → desserts\n"
          ]
        }
      ],
      "source": [
        "#00 文字列の逆順\n",
        "\n",
        "word = 'stressed'\n",
        "ls = list(word)\n",
        "result = ''.join(reversed(ls))\n",
        "print(word + ' → ' +result)"
      ]
    },
    {
      "cell_type": "code",
      "source": [
        "#01 パタトクカシーー\n",
        "\n",
        "word = 'パタトクカシーー'\n",
        "result = word[::2]\n",
        "print(word + ' → ' +result)"
      ],
      "metadata": {
        "colab": {
          "base_uri": "https://localhost:8080/"
        },
        "id": "cgyQmDANxu8W",
        "outputId": "9f1c00d3-91e0-4572-a7ee-d109f9912554"
      },
      "execution_count": 1,
      "outputs": [
        {
          "output_type": "stream",
          "name": "stdout",
          "text": [
            "パタトクカシーー → パトカー\n"
          ]
        }
      ]
    },
    {
      "cell_type": "code",
      "source": [
        "#02 パトカー ＋ タクシー ＝ パタトクカシーー\n",
        "word1 = 'パトカー'\n",
        "word2 = 'タクシー'\n",
        "result = ''\n",
        "\n",
        "for i in range(4):\n",
        "    result += (word1[i] + word2[i])\n",
        "\n",
        "print(word1 + ' + ' + word2 + ' = ' +result)"
      ],
      "metadata": {
        "colab": {
          "base_uri": "https://localhost:8080/"
        },
        "id": "LjiPtBNLy7ex",
        "outputId": "bb4b0c6a-512c-496a-8c37-a5c82d863c89"
      },
      "execution_count": 2,
      "outputs": [
        {
          "output_type": "stream",
          "name": "stdout",
          "text": [
            "パトカー + タクシー = パタトクカシーー\n"
          ]
        }
      ]
    },
    {
      "cell_type": "code",
      "source": [
        "#03 円周率\n",
        "sentence = 'Now I need a drink, alcoholic of course, after the heavy lectures involving quantum mechanics.'\n",
        "words = sentence.replace(',', '').strip('.')\n",
        "ls = words.split()\n",
        "r = [len(word) for word in ls]\n",
        "print(r)"
      ],
      "metadata": {
        "colab": {
          "base_uri": "https://localhost:8080/"
        },
        "id": "e0zp2XlP0UVt",
        "outputId": "2995dc24-af9c-4ccb-d4b7-413f203f5aa5"
      },
      "execution_count": null,
      "outputs": [
        {
          "output_type": "stream",
          "name": "stdout",
          "text": [
            "['Now', 'I', 'need', 'a', 'drink', 'alcoholic', 'of', 'course', 'after', 'the', 'heavy', 'lectures', 'involving', 'quantum', 'mechanics']\n",
            "[3, 1, 4, 1, 5, 9, 2, 6, 5, 3, 5, 8, 9, 7, 9]\n"
          ]
        }
      ]
    },
    {
      "cell_type": "code",
      "source": [
        "#04 元素記号\n",
        "sentence = 'Hi He Lied Because Boron Could Not Oxidize Fluorine. New Nations Might Also Sign Peace Security Clause. Arthur King Can.'\n",
        "words = sentence.replace(',', '').strip('.')\n",
        "ls = words.split()\n",
        "r = {}\n",
        "for i, word in enumerate(ls, 1):\n",
        "    if i in [1, 5, 6, 7, 8, 9, 15, 16, 19]:\n",
        "        r[i] = word[0]\n",
        "    else:\n",
        "        r[i] = word[:2]\n",
        "print(r)"
      ],
      "metadata": {
        "colab": {
          "base_uri": "https://localhost:8080/"
        },
        "id": "gBai2_fj0Yas",
        "outputId": "2170998b-3f74-4c7b-afa7-ac37658f0acd"
      },
      "execution_count": null,
      "outputs": [
        {
          "output_type": "stream",
          "name": "stdout",
          "text": [
            "{1: 'H', 2: 'He', 3: 'Li', 4: 'Be', 5: 'B', 6: 'C', 7: 'N', 8: 'O', 9: 'F', 10: 'Ne', 11: 'Na', 12: 'Mi', 13: 'Al', 14: 'Si', 15: 'P', 16: 'S', 17: 'Cl', 18: 'Ar', 19: 'K', 20: 'Ca'}\n"
          ]
        }
      ]
    },
    {
      "cell_type": "code",
      "execution_count": 5,
      "metadata": {
        "id": "p17Zi51KKOz0",
        "colab": {
          "base_uri": "https://localhost:8080/"
        },
        "outputId": "c85adde2-30d8-4690-938f-d9403cb3fc52"
      },
      "outputs": [
        {
          "output_type": "stream",
          "name": "stdout",
          "text": [
            "単語bi-gram: [['I', 'am', 'an'], ['am', 'an', 'NLPer']]\n",
            "文字bi-gram: ['I a', ' am', 'am ', 'm a', ' an', 'an ', 'n N', ' NL', 'NLP', 'LPe', 'Per']\n"
          ]
        }
      ],
      "source": [
        "#05 n-gram\n",
        "\n",
        "def make_n_gram(sequence, n):\n",
        "    n_grams = []\n",
        "    for i in range(len(sequence) - n + 1):\n",
        "        n_gram = sequence[i:i + n]\n",
        "        n_grams.append(n_gram)\n",
        "    return n_grams\n",
        "\n",
        "# 文から単語bi-gramを生成\n",
        "sentence = \"I am an NLPer\"\n",
        "words = sentence.split()\n",
        "word_bi_gram = make_n_gram(words, 3)\n",
        "\n",
        "# 文から文字bi-gramを生成\n",
        "char_bi_gram = make_n_gram(sentence, 3)\n",
        "\n",
        "# 結果の表示\n",
        "print(\"単語bi-gram:\", word_bi_gram)\n",
        "print(\"文字bi-gram:\", char_bi_gram)"
      ]
    },
    {
      "cell_type": "code",
      "source": [
        "#06 集合\n",
        "\n",
        "#05で作成したn-gramを求める関数\n",
        "def make_n_gram(sequence, n):\n",
        "    n_grams = []\n",
        "    for i in range(len(sequence) - n + 1):\n",
        "        n_gram = sequence[i:i + n]\n",
        "        n_grams.append(n_gram)\n",
        "    return set(n_grams)  # リストではなくsetを返すように修正\n",
        "\n",
        "X = make_n_gram(\"paraparaparadise\", 2)\n",
        "Y = make_n_gram(\"paragraph\", 2)\n",
        "\n",
        "union = X.union(Y)\n",
        "intersection = X.intersection(Y)\n",
        "difference = X.difference(Y)\n",
        "\n",
        "is_se_X = 'se' in X\n",
        "is_se_Y = 'se' in Y\n",
        "\n",
        "# 結果の表示\n",
        "print(\"X:\", X)\n",
        "print(\"Y:\", Y)\n",
        "print(\"和集合(X ∪ Y):\", union)\n",
        "print(\"積集合(X ∩ Y):\", intersection)\n",
        "print(\"差集合(X - Y):\", difference)\n",
        "print(\"'se'がXに含まれるか:\", is_se_X)\n",
        "print(\"'se'がYに含まれるか:\", is_se_Y)\n"
      ],
      "metadata": {
        "id": "hl9rpW_OKZI1",
        "colab": {
          "base_uri": "https://localhost:8080/"
        },
        "outputId": "96c5bdbe-7552-4af4-8ee9-4a29899be1f7"
      },
      "execution_count": 7,
      "outputs": [
        {
          "output_type": "stream",
          "name": "stdout",
          "text": [
            "X: {'di', 'ra', 'ap', 'is', 'ad', 'ar', 'se', 'pa'}\n",
            "Y: {'ag', 'gr', 'ra', 'ap', 'ar', 'ph', 'pa'}\n",
            "和集合(X ∪ Y): {'ag', 'di', 'ph', 'ra', 'gr', 'ap', 'is', 'ad', 'ar', 'se', 'pa'}\n",
            "積集合(X ∩ Y): {'ra', 'ap', 'pa', 'ar'}\n",
            "差集合(X - Y): {'is', 'se', 'ad', 'di'}\n",
            "'se'がXに含まれるか: True\n",
            "'se'がYに含まれるか: False\n"
          ]
        }
      ]
    },
    {
      "cell_type": "code",
      "source": [
        "#07 テンプレートによる文生成\n",
        "\n",
        "def make_sentence(x, y, z):\n",
        "    return str(x) + \"時の\" + str(y) + \"は\" + str(z)\n",
        "\n",
        "print (make_sentence(12, \"気温\", 22.4))"
      ],
      "metadata": {
        "id": "RFlxqmdBKY_e",
        "colab": {
          "base_uri": "https://localhost:8080/"
        },
        "outputId": "b1269e84-6a17-4930-b6a4-4b257eeb4a9b"
      },
      "execution_count": 8,
      "outputs": [
        {
          "output_type": "stream",
          "name": "stdout",
          "text": [
            "12時の気温は22.4\n"
          ]
        }
      ]
    },
    {
      "cell_type": "code",
      "source": [
        "#08 暗号文\n",
        "\n",
        "def cipher(sentence):\n",
        "    result = \"\"\n",
        "    for word in sentence:\n",
        "        # 英小文字の場合\n",
        "        if word.islower():\n",
        "            result += chr(219 - ord(word))\n",
        "        else:\n",
        "            result += word\n",
        "    return result\n",
        "\n",
        "original = \"I have a pen.\"\n",
        "\n",
        "encrypted = cipher(original)\n",
        "print(\"暗号化:\", encrypted)\n",
        "\n",
        "decrypted = cipher(encrypted)\n",
        "print(\"復号化:\", decrypted)\n"
      ],
      "metadata": {
        "id": "MueC8-R8KY1s",
        "colab": {
          "base_uri": "https://localhost:8080/"
        },
        "outputId": "98f04553-47cf-4a93-fe31-34ff117831f8"
      },
      "execution_count": 10,
      "outputs": [
        {
          "output_type": "stream",
          "name": "stdout",
          "text": [
            "暗号化: I szev z kvm.\n",
            "復号化: I have a pen.\n"
          ]
        }
      ]
    },
    {
      "cell_type": "code",
      "source": [
        "#09 Typoglycemia\n",
        "\n",
        "import random\n",
        "\n",
        "def shuffle_word(word):\n",
        "    if len(word) <= 3:\n",
        "        return word\n",
        "    else:\n",
        "        characters = list(word[1:-1])\n",
        "        random.shuffle(characters)\n",
        "        return word[0] + ''.join(characters) + word[-1]\n",
        "\n",
        "def shuffle_sentence(sentence):\n",
        "    words = sentence.split()\n",
        "    shuffled_words = [shuffle_word(word) for word in words]\n",
        "    return ' '.join(shuffled_words)\n",
        "\n",
        "original_sentence = \"I couldn’t believe that I could actually understand what I was reading : the phenomenal power of the human mind .\"\n",
        "\n",
        "shuffled_sentence = shuffle_sentence(original_sentence)\n",
        "\n",
        "print(\"元の文:\", original_sentence)\n",
        "print(\"並び替えた文:\", shuffled_sentence)\n"
      ],
      "metadata": {
        "id": "BACPW7RdKYqk",
        "colab": {
          "base_uri": "https://localhost:8080/"
        },
        "outputId": "570ac57a-f60b-421a-a3dc-96568edde981"
      },
      "execution_count": 11,
      "outputs": [
        {
          "output_type": "stream",
          "name": "stdout",
          "text": [
            "元の文: I couldn’t believe that I could actually understand what I was reading : the phenomenal power of the human mind .\n",
            "並び替えた文: I cuon’dlt bievlee that I cloud allatcuy uertndnasd what I was rneidag : the pmneohnael pweor of the hmaun mind .\n"
          ]
        }
      ]
    }
  ]
}