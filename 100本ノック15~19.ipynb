{
  "nbformat": 4,
  "nbformat_minor": 0,
  "metadata": {
    "colab": {
      "provenance": []
    },
    "kernelspec": {
      "name": "python3",
      "display_name": "Python 3"
    },
    "language_info": {
      "name": "python"
    }
  },
  "cells": [
    {
      "cell_type": "code",
      "execution_count": 6,
      "metadata": {
        "colab": {
          "base_uri": "https://localhost:8080/"
        },
        "id": "-ABA4l4DnGaw",
        "outputId": "8792f71d-f08b-4a5d-86f2-013124b0b1e1"
      },
      "outputs": [
        {
          "output_type": "stream",
          "name": "stdout",
          "text": [
            "ファイル名を入力：\n",
            "末尾から表示する行数を入力：\n",
            ">> 3\n",
            "Lucas\tM\t12585\t2018\n",
            "Mason\tM\t12435\t2018\n",
            "Logan\tM\t12352\t2018\n"
          ]
        }
      ],
      "source": [
        "#15 末尾のN行を出力\n",
        "\n",
        "print(\"ファイル名を入力：\")\n",
        "file_name = 'popular-names.txt'\n",
        "print(\"末尾から表示する行数を入力：\")\n",
        "n = input('>> ')\n",
        "with open(file_name) as f:\n",
        "    items = [line.strip() for line in f.readlines()]\n",
        "    for i in range(-(int(n)), 0):\n",
        "        print(items[i])"
      ]
    },
    {
      "cell_type": "code",
      "source": [
        "# 確認\n",
        "!tail -n 3 ./popular-names.txt"
      ],
      "metadata": {
        "colab": {
          "base_uri": "https://localhost:8080/"
        },
        "id": "e91YYi0snPjz",
        "outputId": "b868aa4d-883f-4869-e3ab-175ffe58c10f"
      },
      "execution_count": 5,
      "outputs": [
        {
          "output_type": "stream",
          "name": "stdout",
          "text": [
            "Lucas\tM\t12585\t2018\n",
            "Mason\tM\t12435\t2018\n",
            "Logan\tM\t12352\t2018\n"
          ]
        }
      ]
    },
    {
      "cell_type": "code",
      "source": [
        "#16 ファイルをN分割する\n",
        "\n",
        "print(\"分割するテキストファイル名を入力：\")\n",
        "file_name = 'popular-names.txt'\n",
        "print(\"分割数を入力：\")\n",
        "n = input('>> ')\n",
        "\n",
        "# リストを リストの長さ//n 個ずつの要素に分割\n",
        "def split_list(l, c):\n",
        "    for idx in range(0, len(l), c):\n",
        "        yield l[idx:idx + c]\n",
        "\n",
        "with open(file_name) as f:\n",
        "    lines = f.readlines()\n",
        "\n",
        "result = list(split_list(lines, len(lines)//int(n)))\n",
        "\n",
        "# 分割結果をそれぞれテキストファイルに書き込む\n",
        "for i in range(len(result)):\n",
        "    cut_file_name = file_name[0:-4] + str(i) + \".txt\"\n",
        "    with open(cut_file_name, 'w') as f:\n",
        "        for d in result[i]:\n",
        "            f.write(\"%s\" % d)"
      ],
      "metadata": {
        "colab": {
          "base_uri": "https://localhost:8080/"
        },
        "id": "ZPqC6FFdnPb-",
        "outputId": "0cfd6dc3-ed06-4b6f-f39a-f4f33843600e"
      },
      "execution_count": 7,
      "outputs": [
        {
          "name": "stdout",
          "output_type": "stream",
          "text": [
            "分割するテキストファイル名を入力：\n",
            "分割数を入力：\n",
            ">> 5\n"
          ]
        }
      ]
    },
    {
      "cell_type": "code",
      "source": [
        "# コマンドによる分割　（ -l 行数：分割ファイルの行数を指定）\n",
        "! split -l 556 -d ./popular-names.txt sp"
      ],
      "metadata": {
        "id": "WpoLUGFEnPSQ"
      },
      "execution_count": 8,
      "outputs": []
    },
    {
      "cell_type": "code",
      "source": [
        "#17 １列目の文字列の異なり\n",
        "\n",
        "with open(\"popular-names.txt\") as f:\n",
        "    lines = f.readlines()\n",
        "    s_lines = [line.strip() for line in lines]\n",
        "    col1 = []\n",
        "\n",
        "    for line in s_lines:\n",
        "        col1.append(line.split('\\t')[0])\n",
        "\n",
        "# 重複しない要素の個数をカウント\n",
        "import collections\n",
        "\n",
        "c = collections.Counter(col1)\n",
        "\n",
        "print(len(c))"
      ],
      "metadata": {
        "colab": {
          "base_uri": "https://localhost:8080/"
        },
        "id": "mwMDSPWcnPKd",
        "outputId": "338a4eb3-208c-4c78-93cb-042bad212c27"
      },
      "execution_count": 9,
      "outputs": [
        {
          "output_type": "stream",
          "name": "stdout",
          "text": [
            "136\n"
          ]
        }
      ]
    },
    {
      "cell_type": "code",
      "source": [
        "# 確認\n",
        "! cut -f 1 ./popular-names.txt | sort | uniq | wc -l"
      ],
      "metadata": {
        "colab": {
          "base_uri": "https://localhost:8080/"
        },
        "id": "kb8jlEf6nPCz",
        "outputId": "f73a26d6-bc82-4802-d49a-2f1db0466439"
      },
      "execution_count": 10,
      "outputs": [
        {
          "output_type": "stream",
          "name": "stdout",
          "text": [
            "136\n"
          ]
        }
      ]
    },
    {
      "cell_type": "code",
      "source": [
        "#18 各行を3コラム目の数値の降順にソート\n",
        "\n",
        "import pandas as pd\n",
        "\n",
        "df = pd.read_table(\"popular-names.txt\", header=None, sep='\\t', names=['name', 'sex', 'number', 'year'])\n",
        "\n",
        "sv = df.sort_values(by=\"number\", ascending=False)\n",
        "print(sv)"
      ],
      "metadata": {
        "colab": {
          "base_uri": "https://localhost:8080/"
        },
        "id": "Jcv-z8g8nO6-",
        "outputId": "f4b96a81-dec6-4d89-e8f2-3b34ca3e9c54"
      },
      "execution_count": 11,
      "outputs": [
        {
          "output_type": "stream",
          "name": "stdout",
          "text": [
            "         name sex  number  year\n",
            "1340    Linda   F   99689  1947\n",
            "1360    Linda   F   96211  1948\n",
            "1350    James   M   94757  1947\n",
            "1550  Michael   M   92704  1957\n",
            "1351   Robert   M   91640  1947\n",
            "...       ...  ..     ...   ...\n",
            "27      Annie   F    1326  1881\n",
            "28     Bertha   F    1324  1881\n",
            "8      Bertha   F    1320  1880\n",
            "29      Alice   F    1308  1881\n",
            "9       Sarah   F    1288  1880\n",
            "\n",
            "[2780 rows x 4 columns]\n"
          ]
        }
      ]
    },
    {
      "cell_type": "code",
      "source": [
        "# 確認\n",
        "! cat ./popular-names.txt | sort -r -n -k 3 | head -n 5"
      ],
      "metadata": {
        "colab": {
          "base_uri": "https://localhost:8080/"
        },
        "id": "aFca6gH6nOyi",
        "outputId": "11be4453-3733-4258-f5e9-106e2387b56e"
      },
      "execution_count": 12,
      "outputs": [
        {
          "output_type": "stream",
          "name": "stdout",
          "text": [
            "Linda\tF\t99689\t1947\n",
            "Linda\tF\t96211\t1948\n",
            "James\tM\t94757\t1947\n",
            "Michael\tM\t92704\t1957\n",
            "Robert\tM\t91640\t1947\n"
          ]
        }
      ]
    },
    {
      "cell_type": "code",
      "source": [
        "#19 各行の1コラム目の文字列の出現頻度を求め，出現頻度の高い順に並べる\n",
        "\n",
        "import pandas as pd\n",
        "\n",
        "df = pd.read_table(\"popular-names.txt\", header=None, sep='\\t', names=['name', 'sex', 'number', 'year'])\n",
        "\n",
        "print(df[\"name\"].value_counts())"
      ],
      "metadata": {
        "colab": {
          "base_uri": "https://localhost:8080/"
        },
        "id": "QJL3TAhLnOr8",
        "outputId": "d1fcb3d4-eb70-4e37-ceaa-2062fd437d5f"
      },
      "execution_count": 13,
      "outputs": [
        {
          "output_type": "stream",
          "name": "stdout",
          "text": [
            "James      118\n",
            "William    111\n",
            "Robert     108\n",
            "John       108\n",
            "Mary        92\n",
            "          ... \n",
            "Scott        1\n",
            "Rachel       1\n",
            "Kelly        1\n",
            "Crystal      1\n",
            "Lucas        1\n",
            "Name: name, Length: 136, dtype: int64\n"
          ]
        }
      ]
    },
    {
      "cell_type": "code",
      "source": [
        "# 確認\n",
        "! cut -f 1 ./popular-names.txt | sort | uniq -c | sort -r -n | head -n 5"
      ],
      "metadata": {
        "colab": {
          "base_uri": "https://localhost:8080/"
        },
        "id": "MEIQbczLnObU",
        "outputId": "975db2b7-46d0-490a-c258-f822c246ad71"
      },
      "execution_count": 14,
      "outputs": [
        {
          "output_type": "stream",
          "name": "stdout",
          "text": [
            "    118 James\n",
            "    111 William\n",
            "    108 Robert\n",
            "    108 John\n",
            "     92 Mary\n"
          ]
        }
      ]
    }
  ]
}